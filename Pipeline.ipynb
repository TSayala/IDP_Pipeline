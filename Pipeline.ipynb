{
 "cells": [
  {
   "cell_type": "markdown",
   "metadata": {},
   "source": [
    "# Document Classification Pipeline"
   ]
  },
  {
   "cell_type": "code",
   "execution_count": 1,
   "metadata": {},
   "outputs": [
    {
     "name": "stderr",
     "output_type": "stream",
     "text": [
      "c:\\Users\\sayalat\\Documents\\OCR\\documentProcessor.py:87: SyntaxWarning: invalid escape sequence '\\d'\n",
      "  \"\"\" date_pattern = r'\\d{2}-\\d{2}-\\d{4}' # DD-MM-YYYY\n",
      "2024-07-08 15:20:46,490 - DEBUG - Initializing Document Classification Pipeline\n",
      "2024-07-08 15:20:46,492 - INFO - CPU affinity set to cores [2, 3, 4, 5, 6, 7]\n"
     ]
    }
   ],
   "source": [
    "import psutil\n",
    "import os\n",
    "from pytictoc import TicToc\n",
    "from documentProcessor import UnsupervisedDocumentAnalyzer, processAllDocuments, fetchFiles, getLogger, readTifFile\n",
    "\n",
    "logger = getLogger()\n",
    "t = TicToc()\n",
    "core_constraint = [2, 3, 4, 5, 6, 7]\n",
    "psutil.Process(os.getpid()).cpu_affinity(core_constraint)\n",
    "logger.debug(f\"Initializing Document Classification Pipeline\")\n",
    "logger.info(f\"CPU affinity set to cores {core_constraint}\")"
   ]
  },
  {
   "cell_type": "code",
   "execution_count": 2,
   "metadata": {},
   "outputs": [
    {
     "data": {
      "text/plain": [
       "'© 04-29-2024 9:33 AM (425) 903-3168\\n\\n\\\\ X\\n\\nvist\\n\\nBothell Capstone Clinic\\n\\n24118 Bothell Everett Hwy Ste 400\\nBothell WA\\n\\n98021 (425) 903-3168 (425) 686-7485\\n\\nComment: Stephen Elf\\n\\n~ 14258927580\\n\\n| o: Kelly B. Weaver MD\\nFax number: (425) 892-7580\\n\\nFrom: Tsukjum Chila\\nFax number: (425) 903-3168\\n\\nDate: 04-29-24\\nRegarding : Stephen Elf\\n\\nIDOB: 10-29-1955\\n\\nPhone number for follow-up:\\n(425) 686-7485\\n\\nWe have been reviewing our charts and noticed we are missing the certification of care for this patient.\\nWe are requesting this be signed and faxed back at your earliest convenience in order to comply with\\nMedicare guidelines, Thank you for your assistance,\\n\\npg lof3\\n\\n © 04-29-2024 9:33 AM (425) 903-3168 ~ 14258927580 pg 2 of 3\\n\\nPatient: Stephen Elf\\n\\nPHYSICAL THERAPY PLAN OF CARE\\n\\nDate of Visit: 04-16-24 Referral Source: Kathleen Weaver, ARNP\\nPatient Name: Stephen Elf Date of Onset:\\n\\nPatient Number: 50949 Certification Period: 04-16-24 - 05-06-24\\nDate of Birth: 10-29-1955 Case: PTOO1\\n\\nDiagnosis:\\n\\nM25.511 Pain in right shoulder\\n\\nG89,29 Other chronic pain\\n\\nR53,1 Weakness\\n\\nR29,3 Abnormal posture\\n\\nASSESSMENT:\\n\\nPatient did well with all provided tx this session. RTC strengthening and postural edu was cont and progressed and pt\\ntolerated well with no adverse reactions noted. Patient was able to complete all activities without issues and demo\\nappropriate mm fatigue with activities. Patient denied pain throughout session and reported feeling \"warm but good\" at\\nconclusion of tx. Reassessment was performed today and pt is demonstrating good progress towards set goals. Pt\\ncontinues to show deficits with painfully limited Right shoulder ABD and dec RTC strength and pain limiting his overall\\nfunctional mobility and tolerance to ADLs. Pt reports he has returned to 40% function and would like to continue with PT\\nPOC at this time, Pt will continue to benefit from skilled PT interventions in order to continue making progress towards\\ngoals, improve functional mobility and tolerance to ADLs and improve overall quality of life. He and/or family is aware of\\nhis diagnosis. The plans and goals have been developed and discussed with the patient.\\n\\nREHAB POTENTIAL:\\n\\nPLAN:\\nThe patient will continue therapy 1 time per week for 3 weeks, for an additional 3 visits and a total of 7 visits since start of\\ncare,\\n\\nThe treatment plan includes:\\n® manual therapy\\n\\n» neuromuscular re-education\\n* therapeutic activities\\n\\n» therapeutic exercises\\n\\nManual Therapy: joint mobilizations/ manipulations (as needed), PROM and manual flexibility to improve joint ROM, overall\\nmobility and dec pain.\\n\\nNeuro Re-ed: postural re-education with scapular stabilizer training and to dec mm compensations, scapular mobility\\ntraining, PNF\\n\\nTher Act: functional UE strengthening and endurance training to improve activity tolerance and functional mobility with OH\\nADLs\\n\\nTher Ex: UE strengthening, endurance stamina training, AAROM/ AROM, resistance training in order to improve tolerance to\\n\\nGoals Short-Long [Time FramelResult Comment\\nAble to return to previous recreational activities without jLong Term |4 weeks ‘Ongoing\\n\\nlimitation\\n\\nClient will be independent in a home exercise program [Short Term 2 weeks Ongoing\\n\\nland symptom management.\\n\\nDecrease pain <2/10 to allow for improved sleep. Long Term [4 weeks Ongain\\n\\nImprove Right shoulder AROM to WNL and pain <2/10 in |Long Term = /4 weeks Met\\nlorder ta improve tolerance to ADLs\\n\\nImprove awareness of safe posture and body mechanics. [Long Term__|4 weeks Ongoing\\nImprove strength by 1 full grade to assist with ADL\\'s. Long Term 4 weeks Ongoing\\n\\n © 04-29-2024 9:33 AM (425) 903-3168 ~ 14258927580 pg 3 of 3\\n\\nPatient: Stephen Elf\\n\\nElizabeth Santen DPT\\nThis document was electronically signed on 04-16-24 at 12:45p by Elizabeth Santen DPT.\\n\\nTO BE COMPLETED BY PHYSICIAN:\\nI certify that the above rehabilitative services are medically necessary and authorized, and that the patient\\'s plan will be\\nreviewed every thirty (30) days.\\n\\nKathleen Weaver, ARNP Signature Date\\n\\nPlease sign the above plan of care and return to:\\n\\nBothell Capstone Clinic Phone: (425) 686-7485\\n24118 Bothell Everett Hwy Ste 400 Fax: (425) 903-3168\\nBothell, WA 98021\\n'"
      ]
     },
     "execution_count": 2,
     "metadata": {},
     "output_type": "execute_result"
    }
   ],
   "source": [
    "readTifFile(\"data/testDir/00CB742F.TIF\")"
   ]
  },
  {
   "cell_type": "code",
   "execution_count": 3,
   "metadata": {},
   "outputs": [
    {
     "name": "stdout",
     "output_type": "stream",
     "text": [
      "WARNING:tensorflow:From C:\\Users\\sayalat\\AppData\\Roaming\\Python\\Python312\\site-packages\\tf_keras\\src\\losses.py:2976: The name tf.losses.sparse_softmax_cross_entropy is deprecated. Please use tf.compat.v1.losses.sparse_softmax_cross_entropy instead.\n",
      "\n"
     ]
    },
    {
     "name": "stderr",
     "output_type": "stream",
     "text": [
      "2024-07-08 15:21:05,500 - INFO - UnsupervisedDocumentAnalyzer initialized\n"
     ]
    }
   ],
   "source": [
    "labels = [\n",
    "  'plan of care', 'prescription request', 'progress note',\n",
    "  'prescription authorization', 'lab results', 'result notification',\n",
    "  'formal records request', 'patient chart note', 'return to work',\n",
    "  'spam', 'other'\n",
    "]\n",
    "\n",
    "analyzer = UnsupervisedDocumentAnalyzer()\n",
    "logger.info('UnsupervisedDocumentAnalyzer initialized')"
   ]
  },
  {
   "cell_type": "code",
   "execution_count": 4,
   "metadata": {},
   "outputs": [
    {
     "name": "stderr",
     "output_type": "stream",
     "text": [
      "2024-07-08 15:21:05,514 - INFO - Found 15 TIF files in directory: data/testDir/\n",
      "2024-07-08 15:21:05,516 - INFO - Starting document processing for 15 files in data/testDir/\n",
      "2024-07-08 15:21:05,517 - INFO - Starting to process 15 documents in 1 batches\n",
      "2024-07-08 15:21:05,518 - INFO - Processing batch 1/1\n",
      "2024-07-08 15:22:15,528 - DEBUG - Processed document: data/testDir/00C9EACF.TIF (Status: success)\n",
      "2024-07-08 15:22:47,692 - DEBUG - Processed document: data/testDir/00C93BC3.TIF (Status: success)\n",
      "2024-07-08 15:22:56,176 - DEBUG - Processed document: data/testDir/00C92E5C.TIF (Status: success)\n",
      "2024-07-08 15:23:05,388 - DEBUG - Processed document: data/testDir/00C9EC13.TIF (Status: success)\n",
      "2024-07-08 15:23:20,122 - DEBUG - Processed document: data/testDir/00CB4846.TIF (Status: success)\n",
      "2024-07-08 15:23:47,472 - DEBUG - Processed document: data/testDir/00C9FFCD.TIF (Status: success)\n",
      "2024-07-08 15:24:04,182 - DEBUG - Processed document: data/testDir/00CB5775.TIF (Status: success)\n",
      "2024-07-08 15:24:04,281 - DEBUG - Processed document: data/testDir/00CB742F.TIF (Status: success)\n",
      "2024-07-08 15:24:23,095 - DEBUG - Processed document: data/testDir/00CB770F.TIF (Status: success)\n",
      "2024-07-08 15:24:30,461 - DEBUG - Processed document: data/testDir/00CB7174.TIF (Status: success)\n",
      "2024-07-08 15:24:57,026 - DEBUG - Processed document: data/testDir/00CBA467.TIF (Status: success)\n",
      "2024-07-08 15:25:02,196 - DEBUG - Processed document: data/testDir/00CB8667.TIF (Status: success)\n",
      "2024-07-08 15:25:02,990 - DEBUG - Processed document: data/testDir/00CBA641.TIF (Status: success)\n",
      "2024-07-08 15:25:06,184 - DEBUG - Processed document: data/testDir/00CBCCA4.TIF (Status: success)\n",
      "2024-07-08 15:25:12,501 - DEBUG - Processed document: data/testDir/00CB7835.TIF (Status: success)\n",
      "2024-07-08 15:25:14,794 - INFO - Completed batch 1/1\n",
      "2024-07-08 15:25:14,798 - INFO - All documents processed successfully. Success: 15, Errors: 0\n",
      "2024-07-08 15:25:14,800 - INFO - Finished document processing for 15 files in data/testDir/. Time taken: 249.26 seconds.\n"
     ]
    }
   ],
   "source": [
    "folder = 'testDir' # Set the folder to process\n",
    "\n",
    "directory = 'data/' + folder + '/'\n",
    "tif_files = fetchFiles(directory)\n",
    "\n",
    "t.tic()\n",
    "logger.info(f'Starting document processing for {len(tif_files)} files in {directory}')\n",
    "results_df = processAllDocuments(tif_files, analyzer, labels)\n",
    "elapsed_time = t.tocvalue()\n",
    "logger.info(f'Finished document processing for {len(tif_files)} files in {directory}. Time taken: {elapsed_time:.2f} seconds.')"
   ]
  },
  {
   "cell_type": "code",
   "execution_count": 5,
   "metadata": {},
   "outputs": [
    {
     "name": "stdout",
     "output_type": "stream",
     "text": [
      "Total documents processed: 15\n",
      "Successfully processed: 15\n",
      "Failed to process: 0\n",
      "Category distribution:\n",
      "category\n",
      "other                   6\n",
      "result notification     5\n",
      "prescription request    2\n",
      "patient chart note      1\n",
      "plan of care            1\n",
      "Name: count, dtype: int64\n",
      "Average confidence: 0.36\n"
     ]
    }
   ],
   "source": [
    "print(f'Total documents processed: {len(results_df)}')\n",
    "print(f'Successfully processed: {results_df['status'].value_counts().get(\"success\", 0)}')\n",
    "print(f'Failed to process: {results_df['status'].value_counts().get(\"error\", 0)}')\n",
    "\n",
    "print(f'Category distribution:')\n",
    "print(results_df[results_df['status'] == 'success']['category'].value_counts())\n",
    "\n",
    "print(f'Average confidence: {results_df[results_df['status'] == 'success']['confidence'].mean():.2f}')"
   ]
  },
  {
   "cell_type": "code",
   "execution_count": 6,
   "metadata": {},
   "outputs": [],
   "source": [
    "if 'error' in results_df['status'].values:\n",
    "  print('\\nError Analysis:')\n",
    "  error_df = results_df[results_df['status'] == 'error']\n",
    "  print(error_df['error_message'].value_counts())\n",
    "\n",
    "  print('\\nFiles with empty extracted text:')\n",
    "  empty_text_files = error_df[error_df['error_message'] == 'ValueError: Extracted text is empty']\n",
    "  print(empty_text_files['file_path'].tolist())\n",
    "\n",
    "  print('\\nFiles with other errors:')\n",
    "  other_error_files = error_df[error_df['error_message'] != 'ValueError: Extracted text is empty']\n",
    "  for _, row in other_error_files.iterrows():\n",
    "    print(f'File: {row[\"file_path\"]}')\n",
    "    print(f'Error: {row[\"error_message\"]}')\n",
    "    print(f'Extracted text length: {row['text_length']}')\n",
    "    print()"
   ]
  },
  {
   "cell_type": "code",
   "execution_count": 7,
   "metadata": {},
   "outputs": [
    {
     "data": {
      "image/png": "[encoded data removed]",
      "text/plain": [
       "<Figure size 1000x600 with 1 Axes>"
      ]
     },
     "metadata": {},
     "output_type": "display_data"
    }
   ],
   "source": [
    "import matplotlib.pyplot as plt\n",
    "\n",
    "plt.figure(figsize=(10, 6))\n",
    "results_df['text_length'].hist(bins=50)\n",
    "plt.title('Distribution of text length')\n",
    "plt.xlabel('Text length')\n",
    "plt.ylabel('Frequency')\n",
    "plt.show()"
   ]
  },
  {
   "cell_type": "code",
   "execution_count": 8,
   "metadata": {},
   "outputs": [
    {
     "data": {
      "text/plain": [
       "\" results_df.to_csv('documentAnalysisResults.csv', index=False)\\nlogger.info('Results saved to documentAnalysisResults.csv') \""
      ]
     },
     "execution_count": 8,
     "metadata": {},
     "output_type": "execute_result"
    }
   ],
   "source": [
    "\"\"\" results_df.to_csv('documentAnalysisResults.csv', index=False)\n",
    "logger.info('Results saved to documentAnalysisResults.csv') \"\"\""
   ]
  },
  {
   "cell_type": "code",
   "execution_count": 9,
   "metadata": {},
   "outputs": [
    {
     "data": {
      "text/html": [
       "<div>\n",
       "<style scoped>\n",
       "    .dataframe tbody tr th:only-of-type {\n",
       "        vertical-align: middle;\n",
       "    }\n",
       "\n",
       "    .dataframe tbody tr th {\n",
       "        vertical-align: top;\n",
       "    }\n",
       "\n",
       "    .dataframe thead th {\n",
       "        text-align: right;\n",
       "    }\n",
       "</style>\n",
       "<table border=\"1\" class=\"dataframe\">\n",
       "  <thead>\n",
       "    <tr style=\"text-align: right;\">\n",
       "      <th></th>\n",
       "      <th>file_path</th>\n",
       "      <th>summary</th>\n",
       "      <th>category</th>\n",
       "      <th>confidence</th>\n",
       "      <th>status</th>\n",
       "      <th>error_message</th>\n",
       "      <th>text_length</th>\n",
       "    </tr>\n",
       "  </thead>\n",
       "  <tbody>\n",
       "    <tr>\n",
       "      <th>0</th>\n",
       "      <td>data/testDir/00C9EACF.TIF</td>\n",
       "      <td>[]\\nSummary: Verification allows new, pharmacy...</td>\n",
       "      <td>prescription request</td>\n",
       "      <td>0.434531</td>\n",
       "      <td>success</td>\n",
       "      <td>None</td>\n",
       "      <td>1348</td>\n",
       "    </tr>\n",
       "    <tr>\n",
       "      <th>1</th>\n",
       "      <td>data/testDir/00C93BC3.TIF</td>\n",
       "      <td>[]\\nSummary: Woodinville Physical Therapy 1700...</td>\n",
       "      <td>result notification</td>\n",
       "      <td>0.290497</td>\n",
       "      <td>success</td>\n",
       "      <td>None</td>\n",
       "      <td>601</td>\n",
       "    </tr>\n",
       "    <tr>\n",
       "      <th>2</th>\n",
       "      <td>data/testDir/00C92E5C.TIF</td>\n",
       "      <td>[]\\nSummary: The information contained in this...</td>\n",
       "      <td>other</td>\n",
       "      <td>0.363757</td>\n",
       "      <td>success</td>\n",
       "      <td>None</td>\n",
       "      <td>2561</td>\n",
       "    </tr>\n",
       "    <tr>\n",
       "      <th>3</th>\n",
       "      <td>data/testDir/00C9EC13.TIF</td>\n",
       "      <td>[]\\nSummary: The Everett Clinic Part of Optum ...</td>\n",
       "      <td>result notification</td>\n",
       "      <td>0.461847</td>\n",
       "      <td>success</td>\n",
       "      <td>None</td>\n",
       "      <td>3375</td>\n",
       "    </tr>\n",
       "    <tr>\n",
       "      <th>4</th>\n",
       "      <td>data/testDir/00CB4846.TIF</td>\n",
       "      <td>[]\\nSummary: Victor Correa, B01 S 50th Ave Yak...</td>\n",
       "      <td>result notification</td>\n",
       "      <td>0.367981</td>\n",
       "      <td>success</td>\n",
       "      <td>None</td>\n",
       "      <td>1640</td>\n",
       "    </tr>\n",
       "    <tr>\n",
       "      <th>5</th>\n",
       "      <td>data/testDir/00C9FFCD.TIF</td>\n",
       "      <td>[]\\nSummary: The Everett Clinic Part of Optum ...</td>\n",
       "      <td>result notification</td>\n",
       "      <td>0.406196</td>\n",
       "      <td>success</td>\n",
       "      <td>None</td>\n",
       "      <td>3435</td>\n",
       "    </tr>\n",
       "    <tr>\n",
       "      <th>6</th>\n",
       "      <td>data/testDir/00CB5775.TIF</td>\n",
       "      <td>[]\\nSummary: Serhii Kovalchuk 2 (including cov...</td>\n",
       "      <td>other</td>\n",
       "      <td>0.240900</td>\n",
       "      <td>success</td>\n",
       "      <td>None</td>\n",
       "      <td>2938</td>\n",
       "    </tr>\n",
       "    <tr>\n",
       "      <th>7</th>\n",
       "      <td>data/testDir/00CB742F.TIF</td>\n",
       "      <td>© 04-29-2024 9:33 AM (425) 903-3168\\n\\n\\ X\\n\\n...</td>\n",
       "      <td>patient chart note</td>\n",
       "      <td>0.239419</td>\n",
       "      <td>success</td>\n",
       "      <td>None</td>\n",
       "      <td>4162</td>\n",
       "    </tr>\n",
       "    <tr>\n",
       "      <th>8</th>\n",
       "      <td>data/testDir/00CB770F.TIF</td>\n",
       "      <td>B4-29-2824 18:13 PSJH_EPIC BA 1/3\\n\\nSWEDISH\\n...</td>\n",
       "      <td>other</td>\n",
       "      <td>0.211530</td>\n",
       "      <td>success</td>\n",
       "      <td>None</td>\n",
       "      <td>5089</td>\n",
       "    </tr>\n",
       "    <tr>\n",
       "      <th>9</th>\n",
       "      <td>data/testDir/00CB7174.TIF</td>\n",
       "      <td>© 04-29-2024 8:32 AM\\n\\n\\ X\\n\\nMovement PT (Ca...</td>\n",
       "      <td>plan of care</td>\n",
       "      <td>0.661553</td>\n",
       "      <td>success</td>\n",
       "      <td>None</td>\n",
       "      <td>7439</td>\n",
       "    </tr>\n",
       "    <tr>\n",
       "      <th>10</th>\n",
       "      <td>data/testDir/00CBA467.TIF</td>\n",
       "      <td>Page:\\n\\n1 of G 04/30/2024 11:03 AM TO: 142589...</td>\n",
       "      <td>other</td>\n",
       "      <td>0.372295</td>\n",
       "      <td>success</td>\n",
       "      <td>None</td>\n",
       "      <td>8378</td>\n",
       "    </tr>\n",
       "    <tr>\n",
       "      <th>11</th>\n",
       "      <td>data/testDir/00CB8667.TIF</td>\n",
       "      <td>04/29/2024 4:12:30 PM —-0500\\n\\nFax\\n\\nTo: Fro...</td>\n",
       "      <td>result notification</td>\n",
       "      <td>0.333584</td>\n",
       "      <td>success</td>\n",
       "      <td>None</td>\n",
       "      <td>7657</td>\n",
       "    </tr>\n",
       "    <tr>\n",
       "      <th>12</th>\n",
       "      <td>data/testDir/00CBA641.TIF</td>\n",
       "      <td>From Denise Larsen 1.425.486.7077 Tue Apr 30 1...</td>\n",
       "      <td>other</td>\n",
       "      <td>0.255963</td>\n",
       "      <td>success</td>\n",
       "      <td>None</td>\n",
       "      <td>4755</td>\n",
       "    </tr>\n",
       "    <tr>\n",
       "      <th>13</th>\n",
       "      <td>data/testDir/00CBCCA4.TIF</td>\n",
       "      <td>@5-@1-2624 16:12 6383814577\\nDate: 5/1/2024 12...</td>\n",
       "      <td>other</td>\n",
       "      <td>0.388990</td>\n",
       "      <td>success</td>\n",
       "      <td>None</td>\n",
       "      <td>5267</td>\n",
       "    </tr>\n",
       "    <tr>\n",
       "      <th>14</th>\n",
       "      <td>data/testDir/00CB7835.TIF</td>\n",
       "      <td>[]\\nSummary: Rite Aid 10 MG Tablet Nbc: 000549...</td>\n",
       "      <td>prescription request</td>\n",
       "      <td>0.426960</td>\n",
       "      <td>success</td>\n",
       "      <td>None</td>\n",
       "      <td>1670</td>\n",
       "    </tr>\n",
       "  </tbody>\n",
       "</table>\n",
       "</div>"
      ],
      "text/plain": [
       "                    file_path  \\\n",
       "0   data/testDir/00C9EACF.TIF   \n",
       "1   data/testDir/00C93BC3.TIF   \n",
       "2   data/testDir/00C92E5C.TIF   \n",
       "3   data/testDir/00C9EC13.TIF   \n",
       "4   data/testDir/00CB4846.TIF   \n",
       "5   data/testDir/00C9FFCD.TIF   \n",
       "6   data/testDir/00CB5775.TIF   \n",
       "7   data/testDir/00CB742F.TIF   \n",
       "8   data/testDir/00CB770F.TIF   \n",
       "9   data/testDir/00CB7174.TIF   \n",
       "10  data/testDir/00CBA467.TIF   \n",
       "11  data/testDir/00CB8667.TIF   \n",
       "12  data/testDir/00CBA641.TIF   \n",
       "13  data/testDir/00CBCCA4.TIF   \n",
       "14  data/testDir/00CB7835.TIF   \n",
       "\n",
       "                                              summary              category  \\\n",
       "0   []\\nSummary: Verification allows new, pharmacy...  prescription request   \n",
       "1   []\\nSummary: Woodinville Physical Therapy 1700...   result notification   \n",
       "2   []\\nSummary: The information contained in this...                 other   \n",
       "3   []\\nSummary: The Everett Clinic Part of Optum ...   result notification   \n",
       "4   []\\nSummary: Victor Correa, B01 S 50th Ave Yak...   result notification   \n",
       "5   []\\nSummary: The Everett Clinic Part of Optum ...   result notification   \n",
       "6   []\\nSummary: Serhii Kovalchuk 2 (including cov...                 other   \n",
       "7   © 04-29-2024 9:33 AM (425) 903-3168\\n\\n\\ X\\n\\n...    patient chart note   \n",
       "8   B4-29-2824 18:13 PSJH_EPIC BA 1/3\\n\\nSWEDISH\\n...                 other   \n",
       "9   © 04-29-2024 8:32 AM\\n\\n\\ X\\n\\nMovement PT (Ca...          plan of care   \n",
       "10  Page:\\n\\n1 of G 04/30/2024 11:03 AM TO: 142589...                 other   \n",
       "11  04/29/2024 4:12:30 PM —-0500\\n\\nFax\\n\\nTo: Fro...   result notification   \n",
       "12  From Denise Larsen 1.425.486.7077 Tue Apr 30 1...                 other   \n",
       "13  @5-@1-2624 16:12 6383814577\\nDate: 5/1/2024 12...                 other   \n",
       "14  []\\nSummary: Rite Aid 10 MG Tablet Nbc: 000549...  prescription request   \n",
       "\n",
       "    confidence   status error_message  text_length  \n",
       "0     0.434531  success          None         1348  \n",
       "1     0.290497  success          None          601  \n",
       "2     0.363757  success          None         2561  \n",
       "3     0.461847  success          None         3375  \n",
       "4     0.367981  success          None         1640  \n",
       "5     0.406196  success          None         3435  \n",
       "6     0.240900  success          None         2938  \n",
       "7     0.239419  success          None         4162  \n",
       "8     0.211530  success          None         5089  \n",
       "9     0.661553  success          None         7439  \n",
       "10    0.372295  success          None         8378  \n",
       "11    0.333584  success          None         7657  \n",
       "12    0.255963  success          None         4755  \n",
       "13    0.388990  success          None         5267  \n",
       "14    0.426960  success          None         1670  "
      ]
     },
     "execution_count": 9,
     "metadata": {},
     "output_type": "execute_result"
    }
   ],
   "source": [
    "results_df.head(15)"
   ]
  },
  {
   "cell_type": "code",
   "execution_count": 10,
   "metadata": {},
   "outputs": [
    {
     "data": {
      "text/plain": [
       "'© 04-29-2024 9:33 AM (425) 903-3168\\n\\n\\\\ X\\n\\nvist\\n\\nBothell Capstone Clinic\\n\\n24118 Bothell Everett Hwy Ste 400\\nBothell WA\\n\\n98021 (425) 903-3168 (425) 686-7485\\n\\nComment: Stephen Elf\\n\\n~ 14258927580\\n\\n| o: Kelly B. Weaver MD\\nFax number: (425) 892-7580\\n\\nFrom: Tsukjum Chila\\nFax number: (425) 903-3168\\n\\nDate: 04-29-24\\nRegarding : Stephen Elf\\n\\nIDOB: 10-29-1955\\n\\nPhone number for follow-up:\\n(425) 686-7485\\n\\nWe have been reviewing our charts and noticed we are missing the certification of care for this patient.\\nWe are reque... (truncated)'"
      ]
     },
     "execution_count": 10,
     "metadata": {},
     "output_type": "execute_result"
    }
   ],
   "source": [
    "results_df['summary'][7]"
   ]
  },
  {
   "cell_type": "markdown",
   "metadata": {},
   "source": [
    "### Check if a document is referral"
   ]
  },
  {
   "cell_type": "code",
   "execution_count": 14,
   "metadata": {},
   "outputs": [],
   "source": [
    "def isReferral(text):\n",
    "  referral_keywords = ['referral to', 'referral communication form', 'end of referral report', 'patient demo']\n",
    "  return any(keyword in text.lower() for keyword in referral_keywords)"
   ]
  },
  {
   "cell_type": "code",
   "execution_count": 15,
   "metadata": {},
   "outputs": [
    {
     "data": {
      "text/plain": [
       "' def summarize(self, text):\\n    try:\\n      if not text or len(text) < 30:\\n        logger.warning(f\\'Text length is less than 30 characters. Skipping summarization\\')\\n        return text\\n      \\n      max_tokens = self.summarizer.tokenizer.model_max_length - 100\\n      encoded_text = self.summarizer.tokenizer.encode(text, truncation=True, max_length=max_tokens)\\n      decoded_text = self.summarizer.tokenizer.decode(encoded_text, skip_special_tokens=True)\\n      logger.debug(f\\'Attempting to summarize text of length {len(decoded_text)}\\')\\n\\n      chunk_size = 1024\\n      chunks = [decoded_text[i:i+chunk_size] for i in range(0, len(decoded_text), chunk_size)]\\n\\n      summaries = []\\n      for chunk in chunks:\\n        chunk_summary = self.summarizer(chunk, max_length=150, min_length=30, do_sample=False)\\n        summaries.append(chunk_summary[0][\\'summary_text\\'])\\n\\n      final_summary = \" \".join(summaries)\\n      if len(final_summary.split()) > 150:\\n        final_summary = self.summarizer(final_summary, max_length=150, min_length=30, do_sample=False)[0][\\'summary_text\\']\\n\\n      logger.debug(f\\'Summary successful. Summary length: {len(final_summary)} characters\\')\\n      return final_summary\\n    \\n    except Exception as e:\\n      logger.error(f\\'Error in summarization: {str(e)}\\')\\n      return text '"
      ]
     },
     "execution_count": 15,
     "metadata": {},
     "output_type": "execute_result"
    }
   ],
   "source": [
    "\"\"\" def summarize(self, text):\n",
    "    try:\n",
    "      if not text or len(text) < 30:\n",
    "        logger.warning(f'Text length is less than 30 characters. Skipping summarization')\n",
    "        return text\n",
    "      \n",
    "      max_tokens = self.summarizer.tokenizer.model_max_length - 100\n",
    "      encoded_text = self.summarizer.tokenizer.encode(text, truncation=True, max_length=max_tokens)\n",
    "      decoded_text = self.summarizer.tokenizer.decode(encoded_text, skip_special_tokens=True)\n",
    "      logger.debug(f'Attempting to summarize text of length {len(decoded_text)}')\n",
    "\n",
    "      chunk_size = 1024\n",
    "      chunks = [decoded_text[i:i+chunk_size] for i in range(0, len(decoded_text), chunk_size)]\n",
    "\n",
    "      summaries = []\n",
    "      for chunk in chunks:\n",
    "        chunk_summary = self.summarizer(chunk, max_length=150, min_length=30, do_sample=False)\n",
    "        summaries.append(chunk_summary[0]['summary_text'])\n",
    "\n",
    "      final_summary = \" \".join(summaries)\n",
    "      if len(final_summary.split()) > 150:\n",
    "        final_summary = self.summarizer(final_summary, max_length=150, min_length=30, do_sample=False)[0]['summary_text']\n",
    "\n",
    "      logger.debug(f'Summary successful. Summary length: {len(final_summary)} characters')\n",
    "      return final_summary\n",
    "    \n",
    "    except Exception as e:\n",
    "      logger.error(f'Error in summarization: {str(e)}')\n",
    "      return text \"\"\""
   ]
  }
 ],
 "metadata": {
  "kernelspec": {
   "display_name": "Python 3",
   "language": "python",
   "name": "python3"
  },
  "language_info": {
   "codemirror_mode": {
    "name": "ipython",
    "version": 3
   },
   "file_extension": ".py",
   "mimetype": "text/x-python",
   "name": "python",
   "nbconvert_exporter": "python",
   "pygments_lexer": "ipython3",
   "version": "3.12.3"
  }
 },
 "nbformat": 4,
 "nbformat_minor": 2
}
