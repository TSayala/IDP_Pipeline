{
 "cells": [
  {
   "cell_type": "markdown",
   "metadata": {},
   "source": [
    "# Document Classification Pipeline"
   ]
  },
  {
   "cell_type": "code",
   "execution_count": 1,
   "metadata": {},
   "outputs": [
    {
     "name": "stderr",
     "output_type": "stream",
     "text": [
      "C:\\Users\\sayalat\\AppData\\Roaming\\Python\\Python312\\site-packages\\sentence_transformers\\cross_encoder\\CrossEncoder.py:11: TqdmExperimentalWarning: Using `tqdm.autonotebook.tqdm` in notebook mode. Use `tqdm.tqdm` instead to force console mode (e.g. in jupyter console)\n",
      "  from tqdm.autonotebook import tqdm, trange\n"
     ]
    }
   ],
   "source": [
    "import psutil\n",
    "import os\n",
    "from pytictoc import TicToc\n",
    "import pandas as pd\n",
    "from documentProcessor import processAllDocuments, getLogger, fetchFiles"
   ]
  },
  {
   "cell_type": "code",
   "execution_count": 2,
   "metadata": {},
   "outputs": [
    {
     "name": "stderr",
     "output_type": "stream",
     "text": [
      "2024-08-13 16:00:01,607 - INFO - INITIALIZING DOCUMENT PROCESSING PIPELINE >>>>>>>>>>>>>>>>>>>>>>>>>>>>>>>>>>>>>>\n"
     ]
    }
   ],
   "source": [
    "logger = getLogger()\n",
    "t = TicToc()\n",
    "core_constraint = [2, 3, 4, 5, 6, 7]\n",
    "psutil.Process(os.getpid()).cpu_affinity(core_constraint)\n",
    "logger.info(f\"INITIALIZING DOCUMENT PROCESSING PIPELINE >>>>>>>>>>>>>>>>>>>>>>>>>>>>>>>>>>>>>>\")\n",
    "logger.debug(f\"CPU affinity set to cores {core_constraint}\")"
   ]
  },
  {
   "cell_type": "code",
   "execution_count": 3,
   "metadata": {},
   "outputs": [
    {
     "name": "stderr",
     "output_type": "stream",
     "text": [
      "2024-08-13 16:00:01,634 - INFO - Found 27 TIF files in directory: data/examples/\n"
     ]
    }
   ],
   "source": [
    "fsExamples = 'fewShot_old.csv'\n",
    "folder = 'examples' # Set the folder to process\n",
    "directory = 'data/' + folder + '/'\n",
    "tif_files = fetchFiles(directory)"
   ]
  },
  {
   "cell_type": "code",
   "execution_count": 4,
   "metadata": {},
   "outputs": [
    {
     "name": "stderr",
     "output_type": "stream",
     "text": [
      "2024-08-13 16:00:01,657 - INFO - Starting document processing for 27 files in data/examples/\n",
      "C:\\Users\\sayalat\\AppData\\Roaming\\Python\\Python312\\site-packages\\huggingface_hub\\file_download.py:1132: FutureWarning: `resume_download` is deprecated and will be removed in version 1.0.0. Downloads always resume when possible. If you want to force a new download, use `force_download=True`.\n",
      "  warnings.warn(\n",
      "2024-08-13 16:00:03,374 - INFO - Few-shot examples loaded from cache\n",
      "2024-08-13 16:00:49,418 - INFO - Starting to process 27 documents in 2 batches\n",
      "2024-08-13 16:00:49,421 - INFO - Processing batch 1/2\n",
      "2024-08-13 16:00:49,422 - INFO - Processing document data/examples/00C952C1.TIF\n",
      "2024-08-13 16:00:59,684 - INFO - File 'data/examples/00C952C1.TIF': Processing complete (Status: success)\n",
      "2024-08-13 16:00:59,686 - INFO - Processing document data/examples/00C97BD4.TIF\n",
      "2024-08-13 16:01:05,236 - INFO - File 'data/examples/00C97BD4.TIF': Processing complete (Status: success)\n",
      "2024-08-13 16:01:05,238 - INFO - Processing document data/examples/00C97C1A.TIF\n",
      "2024-08-13 16:01:12,740 - INFO - File 'data/examples/00C97C1A.TIF': Processing complete (Status: success)\n",
      "2024-08-13 16:01:12,742 - INFO - Processing document data/examples/00C99154.TIF\n",
      "2024-08-13 16:01:43,490 - INFO - File 'data/examples/00C99154.TIF': Processing complete (Status: success)\n",
      "2024-08-13 16:01:43,493 - INFO - Processing document data/examples/00C9A542.TIF\n",
      "2024-08-13 16:01:57,850 - INFO - File 'data/examples/00C9A542.TIF': Processing complete (Status: success)\n",
      "2024-08-13 16:01:57,852 - INFO - Processing document data/examples/00C9ADF0.TIF\n",
      "2024-08-13 16:02:23,575 - INFO - File 'data/examples/00C9ADF0.TIF': Processing complete (Status: success)\n",
      "2024-08-13 16:02:23,577 - INFO - Processing document data/examples/00C9B0A8.TIF\n",
      "2024-08-13 16:02:54,859 - INFO - File 'data/examples/00C9B0A8.TIF': Processing complete (Status: success)\n",
      "2024-08-13 16:02:54,861 - INFO - Processing document data/examples/00C9B36E.TIF\n",
      "2024-08-13 16:02:57,860 - INFO - File 'data/examples/00C9B36E.TIF': Processing complete (Status: success)\n",
      "2024-08-13 16:02:57,862 - INFO - Processing document data/examples/00C9B537.TIF\n",
      "2024-08-13 16:03:13,097 - INFO - File 'data/examples/00C9B537.TIF': Processing complete (Status: success)\n",
      "2024-08-13 16:03:13,099 - INFO - Processing document data/examples/00C9BEE7.TIF\n",
      "2024-08-13 16:03:16,231 - INFO - File 'data/examples/00C9BEE7.TIF': Processing complete (Status: success)\n",
      "2024-08-13 16:03:16,233 - INFO - Processing document data/examples/00C9C734.TIF\n",
      "2024-08-13 16:03:25,161 - INFO - File 'data/examples/00C9C734.TIF': Processing complete (Status: success)\n",
      "2024-08-13 16:03:25,163 - INFO - Processing document data/examples/00C9CFE3.TIF\n",
      "2024-08-13 16:03:30,505 - INFO - File 'data/examples/00C9CFE3.TIF': Processing complete (Status: success)\n",
      "2024-08-13 16:03:30,506 - INFO - Processing document data/examples/00C9D1CD.TIF\n",
      "2024-08-13 16:03:36,240 - INFO - File 'data/examples/00C9D1CD.TIF': Processing complete (Status: success)\n",
      "2024-08-13 16:03:36,242 - INFO - Processing document data/examples/00C9D3C0.TIF\n",
      "2024-08-13 16:03:49,504 - INFO - File 'data/examples/00C9D3C0.TIF': Processing complete (Status: success)\n",
      "2024-08-13 16:03:49,506 - INFO - Processing document data/examples/00CAB718.TIF\n",
      "2024-08-13 16:04:02,163 - INFO - File 'data/examples/00CAB718.TIF': Processing complete (Status: success)\n",
      "2024-08-13 16:04:02,164 - INFO - Processing document data/examples/00CAB9BC.TIF\n",
      "2024-08-13 16:04:16,219 - INFO - File 'data/examples/00CAB9BC.TIF': Processing complete (Status: success)\n",
      "2024-08-13 16:04:16,221 - INFO - Processing document data/examples/00CABB8C.TIF\n",
      "2024-08-13 16:04:22,776 - INFO - File 'data/examples/00CABB8C.TIF': Processing complete (Status: success)\n",
      "2024-08-13 16:04:22,778 - INFO - Processing document data/examples/00CABF13.TIF\n",
      "2024-08-13 16:04:36,997 - INFO - File 'data/examples/00CABF13.TIF': Processing complete (Status: success)\n",
      "2024-08-13 16:04:36,998 - INFO - Processing document data/examples/00CB2312.TIF\n",
      "2024-08-13 16:05:23,109 - INFO - File 'data/examples/00CB2312.TIF': Processing complete (Status: success)\n",
      "2024-08-13 16:05:23,112 - INFO - Processing document data/examples/00CB5020.TIF\n",
      "2024-08-13 16:05:34,115 - INFO - File 'data/examples/00CB5020.TIF': Processing complete (Status: success)\n",
      "2024-08-13 16:05:34,119 - INFO - Completed batch 1/2\n",
      "2024-08-13 16:05:34,122 - INFO - Found 6 samples to review\n"
     ]
    },
    {
     "name": "stdout",
     "output_type": "stream",
     "text": [
      "\n",
      "Available categories:\n",
      "1. patient chart note\n",
      "2. prescription request\n",
      "3. provider certification\n",
      "4. plan of care\n",
      "5. return to work\n",
      "6. lab results\n",
      "7. discharge summary\n",
      "8. progress note\n",
      "9. answering service\n",
      "10. prior authorization\n",
      "11. spam\n",
      "12. formal records request\n",
      "13. Other (Write-in)\n",
      "\n",
      "Reviewing document: data/examples/00C99154.TIF\n",
      "\n",
      "Initial prediction: provider certification (Confidence: 0.55)\n",
      "Invalid input. Please enter a valid category number or 'y' to accept the prediction\n",
      "Invalid input. Please enter a valid category number or 'y' to accept the prediction\n",
      "Invalid input. Please enter a valid category number or 'y' to accept the prediction\n",
      "\n",
      "Reviewing document: data/examples/00C9ADF0.TIF\n",
      "\n",
      "Initial prediction: patient chart note (Confidence: 0.66)\n",
      "\n",
      "Reviewing document: data/examples/00C9B537.TIF\n",
      "\n",
      "Initial prediction: lab results (Confidence: 0.68)\n",
      "\n",
      "Reviewing document: data/examples/00C9C734.TIF\n",
      "\n",
      "Initial prediction: return to work (Confidence: 0.67)\n",
      "\n",
      "Reviewing document: data/examples/00CAB718.TIF\n",
      "\n",
      "Initial prediction: discharge summary (Confidence: 0.64)\n"
     ]
    },
    {
     "ename": "",
     "evalue": "",
     "output_type": "error",
     "traceback": [
      "\u001b[1;31mCannot execute code, session has been disposed. Please try restarting the Kernel."
     ]
    },
    {
     "ename": "",
     "evalue": "",
     "output_type": "error",
     "traceback": [
      "\u001b[1;31mCannot execute code, session has been disposed. Please try restarting the Kernel. \n",
      "\u001b[1;31mView Jupyter <a href='command:jupyter.viewOutput'>log</a> for further details."
     ]
    }
   ],
   "source": [
    "t.tic()\n",
    "logger.info(f'Starting document processing for {len(tif_files)} files in {directory}')\n",
    "# ----------------------------------------------------------------\n",
    "results_df = processAllDocuments(tif_files, fsExamples, batch_size=20, force_reload=False)\n",
    "# ----------------------------------------------------------------\n",
    "elapsed_time = t.tocvalue()\n",
    "logger.info(f'Finished document processing for {len(tif_files)} files in {directory}. Time taken: {elapsed_time:.2f} seconds.')"
   ]
  },
  {
   "cell_type": "code",
   "execution_count": null,
   "metadata": {},
   "outputs": [],
   "source": [
    "if 'error' in results_df['status'].values:\n",
    "  print('\\nError Analysis:')\n",
    "  error_df = results_df[results_df['status'] == 'error']\n",
    "  print(error_df['error_message'].value_counts())\n",
    "\n",
    "  print('\\nFiles with empty extracted text:')\n",
    "  empty_text_files = error_df[error_df['error_message'] == 'ValueError: Extracted text is empty']\n",
    "  print(empty_text_files['file_path'].tolist())\n",
    "\n",
    "  print('\\nFiles with other errors:')\n",
    "  other_error_files = error_df[error_df['error_message'] != 'ValueError: Extracted text is empty']\n",
    "  for _, row in other_error_files.iterrows():\n",
    "    print(f'File: {row[\"file_path\"]}')\n",
    "    print(f'Error: {row[\"error_message\"]}')\n",
    "    print(f'Extracted text length: {row['text_length']}')\n",
    "    print()"
   ]
  },
  {
   "cell_type": "code",
   "execution_count": null,
   "metadata": {},
   "outputs": [],
   "source": [
    "results_df.head(15)"
   ]
  },
  {
   "cell_type": "code",
   "execution_count": null,
   "metadata": {},
   "outputs": [],
   "source": [
    "results_df.value_counts('category')"
   ]
  }
 ],
 "metadata": {
  "kernelspec": {
   "display_name": "Python 3",
   "language": "python",
   "name": "python3"
  },
  "language_info": {
   "codemirror_mode": {
    "name": "ipython",
    "version": 3
   },
   "file_extension": ".py",
   "mimetype": "text/x-python",
   "name": "python",
   "nbconvert_exporter": "python",
   "pygments_lexer": "ipython3",
   "version": "3.12.3"
  }
 },
 "nbformat": 4,
 "nbformat_minor": 2
}
